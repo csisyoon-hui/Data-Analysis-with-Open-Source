{
  "nbformat": 4,
  "nbformat_minor": 0,
  "metadata": {
    "colab": {
      "provenance": [],
      "include_colab_link": true
    },
    "kernelspec": {
      "name": "python3",
      "display_name": "Python 3"
    },
    "language_info": {
      "name": "python"
    }
  },
  "cells": [
    {
      "cell_type": "markdown",
      "metadata": {
        "id": "view-in-github",
        "colab_type": "text"
      },
      "source": [
        "<a href=\"https://colab.research.google.com/github/csisyoon-hui/Data-Analysis-with-Open-Source/blob/main/%EC%98%A4%ED%94%88%EC%86%8C%EC%8A%A4_%EB%8D%B0%EC%9D%B4%ED%84%B0_%EB%B6%84%EC%84%9D_4%EA%B0%95.ipynb\" target=\"_parent\"><img src=\"https://colab.research.google.com/assets/colab-badge.svg\" alt=\"Open In Colab\"/></a>"
      ]
    },
    {
      "cell_type": "markdown",
      "source": [
        "\n",
        "\n",
        "# 오픈소스 기반 데이터 분석 4강 - 데이터 수집\n"
      ],
      "metadata": {
        "id": "DkPKaAsoRq5Q"
      }
    },
    {
      "cell_type": "markdown",
      "source": [
        "## 4-1 CSV 파일 읽기"
      ],
      "metadata": {
        "id": "-I7BVVlnRrB0"
      }
    },
    {
      "cell_type": "code",
      "source": [
        "import pandas as pd\n",
        "\n",
        "## data.csv 파일 읽기\n",
        "df = pd.read_csv('data.csv', encoding='utf-8', sep=',', header=0,\n",
        "                 index_col=None, skiprows=None, nrows=None)\n",
        "print(df)"
      ],
      "metadata": {
        "id": "2Y2HEiaiRwAI",
        "colab": {
          "base_uri": "https://localhost:8080/"
        },
        "outputId": "ee64bbab-d4ce-4498-d980-fb37265fa49a"
      },
      "execution_count": 6,
      "outputs": [
        {
          "output_type": "stream",
          "name": "stdout",
          "text": [
            "           날짜    체중  골격근량  체지방량\n",
            "0  2025.02.06  64.7  30.0  11.1\n",
            "1  2025.02.04  64.0  29.3  11.6\n"
          ]
        }
      ]
    },
    {
      "cell_type": "markdown",
      "source": [
        "## 4-2 JSON 파일 읽기\n",
        "\n"
      ],
      "metadata": {
        "id": "9kHCFaGlRrE0"
      }
    },
    {
      "cell_type": "code",
      "source": [
        "import json\n",
        "import pandas as pd\n",
        "\n",
        "## data.json 파일 출력\n",
        "with open('data.json', mode='r', encoding='utf-8') as f:\n",
        "    data = json.load(f)\n",
        "print(data)\n",
        "## data.json 파일 DataFrame 읽기\n",
        "df = pd.read_json('data.json', orient='records', encoding='utf-8')\n",
        "print(df)"
      ],
      "metadata": {
        "id": "IO8bsKekR0W_",
        "colab": {
          "base_uri": "https://localhost:8080/"
        },
        "outputId": "4b253251-7e65-4d79-ec1e-16e467c4e5ed"
      },
      "execution_count": 13,
      "outputs": [
        {
          "output_type": "stream",
          "name": "stdout",
          "text": [
            "{'매출데이터': [{'월': '2025-01', '매출액': 1000000, '비용': 700000, '이익': 300000}, {'월': '2025-02', '매출액': 1200000, '비용': 800000, '이익': 400000}, {'월': '2025-03', '매출액': 1500000, '비용': 900000, '이익': 600000}]}\n",
            "                                               매출데이터\n",
            "0  {'월': '2025-01', '매출액': 1000000, '비용': 700000,...\n",
            "1  {'월': '2025-02', '매출액': 1200000, '비용': 800000,...\n",
            "2  {'월': '2025-03', '매출액': 1500000, '비용': 900000,...\n"
          ]
        }
      ]
    },
    {
      "cell_type": "markdown",
      "source": [
        "## 4-3 텍스트 파일 읽기 및 데이터 추출"
      ],
      "metadata": {
        "id": "uLd_3A_IRrHG"
      }
    },
    {
      "cell_type": "code",
      "source": [
        "import re\n",
        "\n",
        "## 파일(callcenter20250301.log) 오픈 및 읽기\n",
        "with open('callcenter20250301.log', 'r', encoding='utf-8') as f:\n",
        "    content = f.read()\n",
        "## 주민등록번호 패턴 생성\n",
        "pattern = re.compile(r'(\\d{6})-(\\d{7})')\n",
        "## 주민등록번호 마스킹\n",
        "masked_content = pattern.sub(r'\\1-*******', content)\n",
        "## 마스킹된 파일(callcenter20250301_masked.log) 오픈 및 쓰기\n",
        "with open('callcenter20250301_masked.log', mode='w') as f:\n",
        "    f.write(masked_content)\n",
        "\n",
        "print(\"주민등록번호 마스킹 완료. 'callcenter20250301_masked.log.txt' 파일로 저장되었습니다.\")"
      ],
      "metadata": {
        "id": "60qOf7uxVdAg",
        "colab": {
          "base_uri": "https://localhost:8080/"
        },
        "outputId": "7a70133f-2e04-4e33-a0d3-18c274bd3317"
      },
      "execution_count": 15,
      "outputs": [
        {
          "output_type": "stream",
          "name": "stdout",
          "text": [
            "주민등록번호 마스킹 완료. 'callcenter20250301_masked.log.txt' 파일로 저장되었습니다.\n"
          ]
        }
      ]
    },
    {
      "cell_type": "markdown",
      "source": [
        "## 4-4 Open-Meteo의 무료 날씨 API를 통한 특정 지역 온도 조회"
      ],
      "metadata": {
        "id": "eOMufu5SXiAU"
      }
    },
    {
      "cell_type": "code",
      "source": [
        "import requests\n",
        "import json\n",
        "\n",
        "url = \"https://api.open-meteo.com/v1/forecast?=&=&current=temperature_2m\"\n",
        "params = {\n",
        "    \"latitude\": \"37.58638333\",\n",
        "    \"longitude\": \"127.0203333\",\n",
        "    \"current\": \"temperature_2m\"\n",
        "}\n",
        "\n",
        "try:\n",
        "    ## URL 및 파라미터 전송\n",
        "    response = requests.get(url, params=params)\n",
        "    response.raise_for_status()\n",
        "\n",
        "    ## JSON 데이터 읽기\n",
        "    data = response.json()\n",
        "    print(\"API 응답:\", data)\n",
        "    print(\"서울시 종로구의 현재 온도는 : {0}{1} 입니다.\".format(data['current']['temperature_2m'], data['current_units']['temperature_2m']))\n",
        "\n",
        "except requests.exceptions.RequestException as e:\n",
        "    print(f\"API 호출 실패: {e}\")\n",
        "except json.JSONDecodeError as e:\n",
        "    print(f\"JSON 파싱 실패: {e}\")"
      ],
      "metadata": {
        "id": "JpmgdsW9V0CY",
        "colab": {
          "base_uri": "https://localhost:8080/"
        },
        "outputId": "badf69ef-7ad4-4e10-fe92-79f2b3be5ca3"
      },
      "execution_count": 16,
      "outputs": [
        {
          "output_type": "stream",
          "name": "stdout",
          "text": [
            "API 응답: {'latitude': 37.6, 'longitude': 127.0, 'generationtime_ms': 0.03886222839355469, 'utc_offset_seconds': 0, 'timezone': 'GMT', 'timezone_abbreviation': 'GMT', 'elevation': 29.0, 'current_units': {'time': 'iso8601', 'interval': 'seconds', 'temperature_2m': '°C'}, 'current': {'time': '2025-10-22T06:15', 'interval': 900, 'temperature_2m': 18.2}}\n",
            "서울시 종로구의 현재 온도는 : 18.2°C 입니다.\n"
          ]
        }
      ]
    },
    {
      "cell_type": "markdown",
      "source": [
        "## 4-5 Selenium과 lxml을 이용한 웹 스크래핑"
      ],
      "metadata": {
        "id": "RLfPaa1ZiqIC"
      }
    },
    {
      "cell_type": "code",
      "source": [
        "!curl -o google-chrome-stable_current_amd64.deb https://dl.google.com/linux/direct/google-chrome-stable_current_amd64.deb\n",
        "!apt install ./google-chrome-stable_current_amd64.deb -y\n",
        "!pip install selenium webdriver_manager"
      ],
      "metadata": {
        "id": "79dmM7MNk8pB",
        "colab": {
          "base_uri": "https://localhost:8080/"
        },
        "outputId": "758a239b-3078-48c1-b24a-b3c26adde3c2"
      },
      "execution_count": 17,
      "outputs": [
        {
          "output_type": "stream",
          "name": "stdout",
          "text": [
            "  % Total    % Received % Xferd  Average Speed   Time    Time     Time  Current\n",
            "                                 Dload  Upload   Total   Spent    Left  Speed\n",
            "100  114M  100  114M    0     0   328M      0 --:--:-- --:--:-- --:--:--  328M\n",
            "Reading package lists... Done\n",
            "Building dependency tree... Done\n",
            "Reading state information... Done\n",
            "Note, selecting 'google-chrome-stable' instead of './google-chrome-stable_current_amd64.deb'\n",
            "The following additional packages will be installed:\n",
            "  libvulkan1 mesa-vulkan-drivers\n",
            "The following NEW packages will be installed:\n",
            "  google-chrome-stable libvulkan1 mesa-vulkan-drivers\n",
            "0 upgraded, 3 newly installed, 0 to remove and 38 not upgraded.\n",
            "Need to get 10.9 MB/131 MB of archives.\n",
            "After this operation, 447 MB of additional disk space will be used.\n",
            "Get:1 http://archive.ubuntu.com/ubuntu jammy/main amd64 libvulkan1 amd64 1.3.204.1-2 [128 kB]\n",
            "Get:2 http://archive.ubuntu.com/ubuntu jammy-updates/main amd64 mesa-vulkan-drivers amd64 23.2.1-1ubuntu3.1~22.04.3 [10.7 MB]\n",
            "Get:3 /content/google-chrome-stable_current_amd64.deb google-chrome-stable amd64 141.0.7390.122-1 [120 MB]\n",
            "Fetched 10.9 MB in 2s (5,531 kB/s)\n",
            "Selecting previously unselected package libvulkan1:amd64.\n",
            "(Reading database ... 126675 files and directories currently installed.)\n",
            "Preparing to unpack .../libvulkan1_1.3.204.1-2_amd64.deb ...\n",
            "Unpacking libvulkan1:amd64 (1.3.204.1-2) ...\n",
            "Selecting previously unselected package google-chrome-stable.\n",
            "Preparing to unpack .../google-chrome-stable_current_amd64.deb ...\n",
            "Unpacking google-chrome-stable (141.0.7390.122-1) ...\n",
            "Selecting previously unselected package mesa-vulkan-drivers:amd64.\n",
            "Preparing to unpack .../mesa-vulkan-drivers_23.2.1-1ubuntu3.1~22.04.3_amd64.deb ...\n",
            "Unpacking mesa-vulkan-drivers:amd64 (23.2.1-1ubuntu3.1~22.04.3) ...\n",
            "Setting up libvulkan1:amd64 (1.3.204.1-2) ...\n",
            "Setting up mesa-vulkan-drivers:amd64 (23.2.1-1ubuntu3.1~22.04.3) ...\n",
            "Setting up google-chrome-stable (141.0.7390.122-1) ...\n",
            "update-alternatives: using /usr/bin/google-chrome-stable to provide /usr/bin/x-www-browser (x-www-browser) in auto mode\n",
            "update-alternatives: using /usr/bin/google-chrome-stable to provide /usr/bin/gnome-www-browser (gnome-www-browser) in auto mode\n",
            "update-alternatives: using /usr/bin/google-chrome-stable to provide /usr/bin/google-chrome (google-chrome) in auto mode\n",
            "Processing triggers for man-db (2.10.2-1) ...\n",
            "Processing triggers for mailcap (3.70+nmu1ubuntu1) ...\n",
            "Processing triggers for libc-bin (2.35-0ubuntu3.8) ...\n",
            "/sbin/ldconfig.real: /usr/local/lib/libtbbbind_2_5.so.3 is not a symbolic link\n",
            "\n",
            "/sbin/ldconfig.real: /usr/local/lib/libtbbbind.so.3 is not a symbolic link\n",
            "\n",
            "/sbin/ldconfig.real: /usr/local/lib/libtbbmalloc_proxy.so.2 is not a symbolic link\n",
            "\n",
            "/sbin/ldconfig.real: /usr/local/lib/libumf.so.0 is not a symbolic link\n",
            "\n",
            "/sbin/ldconfig.real: /usr/local/lib/libhwloc.so.15 is not a symbolic link\n",
            "\n",
            "/sbin/ldconfig.real: /usr/local/lib/libtbbmalloc.so.2 is not a symbolic link\n",
            "\n",
            "/sbin/ldconfig.real: /usr/local/lib/libtbbbind_2_0.so.3 is not a symbolic link\n",
            "\n",
            "/sbin/ldconfig.real: /usr/local/lib/libur_adapter_level_zero.so.0 is not a symbolic link\n",
            "\n",
            "/sbin/ldconfig.real: /usr/local/lib/libur_loader.so.0 is not a symbolic link\n",
            "\n",
            "/sbin/ldconfig.real: /usr/local/lib/libur_adapter_opencl.so.0 is not a symbolic link\n",
            "\n",
            "/sbin/ldconfig.real: /usr/local/lib/libur_adapter_level_zero_v2.so.0 is not a symbolic link\n",
            "\n",
            "/sbin/ldconfig.real: /usr/local/lib/libtcm_debug.so.1 is not a symbolic link\n",
            "\n",
            "/sbin/ldconfig.real: /usr/local/lib/libtcm.so.1 is not a symbolic link\n",
            "\n",
            "/sbin/ldconfig.real: /usr/local/lib/libtbb.so.12 is not a symbolic link\n",
            "\n",
            "Collecting selenium\n",
            "  Downloading selenium-4.37.0-py3-none-any.whl.metadata (7.5 kB)\n",
            "Collecting webdriver_manager\n",
            "  Downloading webdriver_manager-4.0.2-py2.py3-none-any.whl.metadata (12 kB)\n",
            "Requirement already satisfied: urllib3<3.0,>=2.5.0 in /usr/local/lib/python3.12/dist-packages (from urllib3[socks]<3.0,>=2.5.0->selenium) (2.5.0)\n",
            "Collecting trio<1.0,>=0.31.0 (from selenium)\n",
            "  Downloading trio-0.31.0-py3-none-any.whl.metadata (8.5 kB)\n",
            "Collecting trio-websocket<1.0,>=0.12.2 (from selenium)\n",
            "  Downloading trio_websocket-0.12.2-py3-none-any.whl.metadata (5.1 kB)\n",
            "Requirement already satisfied: certifi>=2025.10.5 in /usr/local/lib/python3.12/dist-packages (from selenium) (2025.10.5)\n",
            "Requirement already satisfied: typing_extensions<5.0,>=4.15.0 in /usr/local/lib/python3.12/dist-packages (from selenium) (4.15.0)\n",
            "Requirement already satisfied: websocket-client<2.0,>=1.8.0 in /usr/local/lib/python3.12/dist-packages (from selenium) (1.9.0)\n",
            "Requirement already satisfied: requests in /usr/local/lib/python3.12/dist-packages (from webdriver_manager) (2.32.4)\n",
            "Requirement already satisfied: python-dotenv in /usr/local/lib/python3.12/dist-packages (from webdriver_manager) (1.1.1)\n",
            "Requirement already satisfied: packaging in /usr/local/lib/python3.12/dist-packages (from webdriver_manager) (25.0)\n",
            "Requirement already satisfied: attrs>=23.2.0 in /usr/local/lib/python3.12/dist-packages (from trio<1.0,>=0.31.0->selenium) (25.4.0)\n",
            "Requirement already satisfied: sortedcontainers in /usr/local/lib/python3.12/dist-packages (from trio<1.0,>=0.31.0->selenium) (2.4.0)\n",
            "Requirement already satisfied: idna in /usr/local/lib/python3.12/dist-packages (from trio<1.0,>=0.31.0->selenium) (3.11)\n",
            "Collecting outcome (from trio<1.0,>=0.31.0->selenium)\n",
            "  Downloading outcome-1.3.0.post0-py2.py3-none-any.whl.metadata (2.6 kB)\n",
            "Requirement already satisfied: sniffio>=1.3.0 in /usr/local/lib/python3.12/dist-packages (from trio<1.0,>=0.31.0->selenium) (1.3.1)\n",
            "Collecting wsproto>=0.14 (from trio-websocket<1.0,>=0.12.2->selenium)\n",
            "  Downloading wsproto-1.2.0-py3-none-any.whl.metadata (5.6 kB)\n",
            "Requirement already satisfied: pysocks!=1.5.7,<2.0,>=1.5.6 in /usr/local/lib/python3.12/dist-packages (from urllib3[socks]<3.0,>=2.5.0->selenium) (1.7.1)\n",
            "Requirement already satisfied: charset_normalizer<4,>=2 in /usr/local/lib/python3.12/dist-packages (from requests->webdriver_manager) (3.4.4)\n",
            "Requirement already satisfied: h11<1,>=0.9.0 in /usr/local/lib/python3.12/dist-packages (from wsproto>=0.14->trio-websocket<1.0,>=0.12.2->selenium) (0.16.0)\n",
            "Downloading selenium-4.37.0-py3-none-any.whl (9.7 MB)\n",
            "\u001b[2K   \u001b[90m━━━━━━━━━━━━━━━━━━━━━━━━━━━━━━━━━━━━━━━━\u001b[0m \u001b[32m9.7/9.7 MB\u001b[0m \u001b[31m30.8 MB/s\u001b[0m eta \u001b[36m0:00:00\u001b[0m\n",
            "\u001b[?25hDownloading webdriver_manager-4.0.2-py2.py3-none-any.whl (27 kB)\n",
            "Downloading trio-0.31.0-py3-none-any.whl (512 kB)\n",
            "\u001b[2K   \u001b[90m━━━━━━━━━━━━━━━━━━━━━━━━━━━━━━━━━━━━━━━━\u001b[0m \u001b[32m512.7/512.7 kB\u001b[0m \u001b[31m15.5 MB/s\u001b[0m eta \u001b[36m0:00:00\u001b[0m\n",
            "\u001b[?25hDownloading trio_websocket-0.12.2-py3-none-any.whl (21 kB)\n",
            "Downloading outcome-1.3.0.post0-py2.py3-none-any.whl (10 kB)\n",
            "Downloading wsproto-1.2.0-py3-none-any.whl (24 kB)\n",
            "Installing collected packages: wsproto, outcome, webdriver_manager, trio, trio-websocket, selenium\n",
            "Successfully installed outcome-1.3.0.post0 selenium-4.37.0 trio-0.31.0 trio-websocket-0.12.2 webdriver_manager-4.0.2 wsproto-1.2.0\n"
          ]
        }
      ]
    },
    {
      "cell_type": "code",
      "source": [
        "from selenium import webdriver\n",
        "from selenium.webdriver.chrome.service import Service as ChromeService\n",
        "from webdriver_manager.chrome import ChromeDriverManager\n",
        "from selenium.webdriver.common.by import By\n",
        "from lxml import html\n",
        "import time\n",
        "\n",
        "chrome_options = webdriver.ChromeOptions()\n",
        "chrome_options.add_argument('--headless')               # 브라우저 창 없이 실행\n",
        "chrome_options.add_argument('--no-sandbox')             # 보안모드 비활성화 (Colab 필수)\n",
        "chrome_options.add_argument('--disable-dev-shm-usage')  # 메모리 부족 방지 (Colab 필수)\n",
        "chrome_options.add_argument('--window-size=1920x1080')  # 창 크기 설정(가상)\n",
        "chrome_options.add_argument('--disable-gpu')            # GPU 가속 비활성화 (일부 환경 안정성)\n",
        "chrome_options.binary_location = \"/usr/bin/google-chrome-stable\"  # Colab용 크롬 경로 지정\n",
        "\n",
        "## 드라이버 실행\n",
        "driver = webdriver.Chrome(options=chrome_options)\n",
        "\n",
        "## 사이트 접속\n",
        "url = 'https://professor.knou.ac.kr/jaehwachung/index.do'\n",
        "driver.get(url)\n",
        "## 사이트 접속 대기\n",
        "time.sleep(2)\n",
        "\n",
        "## 페이지 제목 출력\n",
        "page_source = driver.page_source\n",
        "tree = html.fromstring(page_source)\n",
        "\n",
        "title_text = tree.xpath('//title/text()')\n",
        "print(title_text)\n",
        "## 드라이버 종료\n",
        "driver.quit()"
      ],
      "metadata": {
        "id": "cRC8x3_iW0im",
        "colab": {
          "base_uri": "https://localhost:8080/"
        },
        "outputId": "e5038148-2c8b-402a-d71e-2726f2369368"
      },
      "execution_count": 19,
      "outputs": [
        {
          "output_type": "stream",
          "name": "stdout",
          "text": [
            "['컴퓨터과학과 정재화 교수']\n"
          ]
        }
      ]
    },
    {
      "cell_type": "markdown",
      "source": [
        "\n",
        "# 실습 시나리오"
      ],
      "metadata": {
        "id": "Bu6OMZyGirOq"
      }
    },
    {
      "cell_type": "markdown",
      "source": [
        "## 공공데이터 포털 가입 및 데이터 신청\n",
        "\n",
        "- [https://www.data.go.kr](https://www.data.go.kr)\n",
        "- 한국환경공단 에어코리아 대기오염정보 데이터 신청"
      ],
      "metadata": {
        "id": "nsuqRN9RkZlW"
      }
    },
    {
      "cell_type": "code",
      "source": [
        "import requests\n",
        "\n",
        "## 데이터 수집 url 및 api key 설정\n",
        "\n",
        "url = 'http://apis.data.go.kr/B552584/ArpltnInforInqireSvc/getCtprvnRltmMesureDnsty'\n",
        "api_key = '~~~~'\n",
        "params = {\n",
        "    'serviceKey': api_key,\n",
        "    'returnType': 'json',\n",
        "    'numOfRows': '100',\n",
        "    'pageNo': '1',\n",
        "    'sidoName': '서울',\n",
        "    'ver': '1.0'\n",
        "}\n",
        "\n",
        "## 데이터 수집\n",
        "response = requests.get(url, params=params)\n",
        "## 호출 성공/실패 출력\n",
        "print(response.json())\n"
      ],
      "metadata": {
        "id": "7yCozmQeXJcO"
      },
      "execution_count": null,
      "outputs": []
    },
    {
      "cell_type": "markdown",
      "source": [],
      "metadata": {
        "id": "-5Lk7wwVPoX5"
      }
    },
    {
      "cell_type": "code",
      "source": [
        "import requests\n",
        "import time\n",
        "import json\n",
        "import os\n",
        "from datetime import datetime\n",
        "from tqdm import tqdm\n",
        "import pandas as pd\n",
        "\n",
        "API_KEY = \"4b666641786373693732524e756442\"  # <-- 본인의 API 키로 교체하세요\n",
        "BASE_URL = \"http://openapi.seoul.go.kr:8088/{key}/json/energyUseDataSummaryInfo/1/5/{year}/{month}\"\n",
        "\n",
        "START_YEAR = 2015\n",
        "END_YEAR = 2024\n",
        "\n",
        "OUT_DIR = \"energy_data\"\n",
        "os.makedirs(OUT_DIR, exist_ok=True)\n",
        "\n",
        "results = []\n",
        "errors = []\n",
        "\n",
        "# helper to format month as two digits\n",
        "def fmt_month(m):\n",
        "    return f\"{m:02d}\"\n",
        "\n",
        "# 요청 반복 (연도, 월)\n",
        "for year in range(START_YEAR, END_YEAR + 1):\n",
        "    for month in range(1, 13):\n",
        "        # 마지막 해의 마지막 달까지만 수집\n",
        "        if year == END_YEAR and month > 12:\n",
        "            break\n",
        "\n",
        "        url = BASE_URL.format(key=API_KEY, year=year, month=fmt_month(month))\n",
        "        # API 호출 (간단한 재시도 로직 포함)\n",
        "        max_retries = 3\n",
        "        for attempt in range(1, max_retries + 1):\n",
        "            try:\n",
        "                resp = requests.get(url, timeout=15)\n",
        "                status = resp.status_code\n",
        "\n",
        "                # 캡처용 출력(콘솔에 표시)\n",
        "                print(f\"[{datetime.now().isoformat()}] 요청: {year}-{fmt_month(month)}  URL: {url}\")\n",
        "                print(f\"  상태코드: {status}\")\n",
        "\n",
        "                if status == 200:\n",
        "                    # JSON 파싱\n",
        "                    data = resp.json()\n",
        "                    # API의 응답 구조에 따라 실제 데이터가 다른 키 안에 있을 수 있음.\n",
        "                    # 예시: data['energyUseDataSummaryInfo']['row'] 등\n",
        "                    # 안전하게 추출 시도:\n",
        "                    payload = None\n",
        "                    if isinstance(data, dict):\n",
        "                        # 흔한 구조 예시 검사\n",
        "                        if 'energyUseDataSummaryInfo' in data:\n",
        "                            block = data['energyUseDataSummaryInfo']\n",
        "                            if isinstance(block, dict) and 'row' in block:\n",
        "                                payload = block['row']\n",
        "                        # fallback: 전체 dict에서 첫 object에 row가 있는지 확인\n",
        "                        if payload is None:\n",
        "                            for v in data.values():\n",
        "                                if isinstance(v, dict) and 'row' in v:\n",
        "                                    payload = v['row']\n",
        "                                    break\n",
        "                    # payload가 None이면 전체 JSON을 기록\n",
        "                    entry = {\n",
        "                        \"year\": year,\n",
        "                        \"month\": fmt_month(month),\n",
        "                        \"url\": url,\n",
        "                        \"status_code\": status,\n",
        "                        \"raw_json\": data,\n",
        "                        \"parsed_rows\": payload\n",
        "                    }\n",
        "                    results.append(entry)\n",
        "\n",
        "                    # 월별 원본 JSON 저장 (사후 확인/캡처용)\n",
        "                    out_path = os.path.join(OUT_DIR, f\"{year}_{fmt_month(month)}.json\")\n",
        "                    with open(out_path, \"w\", encoding=\"utf-8\") as f:\n",
        "                        json.dump(entry, f, ensure_ascii=False, indent=2)\n",
        "\n",
        "                    # 성공하면 재시도 루프 탈출\n",
        "                    break\n",
        "                else:\n",
        "                    # 에러 응답일 경우 응답 본문 로그\n",
        "                    text = resp.text[:500]\n",
        "                    print(f\"  응답본문(최대500자): {text}\")\n",
        "                    # 서버 오류(5xx)라면 재시도, 클라이언트 오류(4xx)는 재시도 안함\n",
        "                    if 500 <= status < 600:\n",
        "                        print(f\"  서버 오류({status}) — 재시도 {attempt}/{max_retries} ...\")\n",
        "                        time.sleep(1 + attempt)  # backoff\n",
        "                        continue\n",
        "                    else:\n",
        "                        errors.append({\"year\": year, \"month\": fmt_month(month), \"status\": status, \"text\": text})\n",
        "                        break\n",
        "\n",
        "            except requests.exceptions.RequestException as e:\n",
        "                print(f\"  예외 발생: {e}  — 재시도 {attempt}/{max_retries}\")\n",
        "                time.sleep(1 + attempt)\n",
        "                if attempt == max_retries:\n",
        "                    errors.append({\"year\": year, \"month\": fmt_month(month), \"error\": str(e)})\n",
        "\n",
        "        # API 호출 사이에 잠깐 지연을 넣어 과도한 요청을 피함\n",
        "        time.sleep(0.2)\n",
        "\n",
        "# 통합된 테이블(가능하면 parsed_rows에서 필요한 필드만 추출)\n",
        "rows_for_df = []\n",
        "for item in results:\n",
        "    parsed = item.get(\"parsed_rows\")\n",
        "    if parsed and isinstance(parsed, list):\n",
        "        for r in parsed:\n",
        "            # 예시 필드명 가정: 'USE_YYYYMM', 'ENERGY_TYPE', 'USAGE' 등\n",
        "            # 실제 필드명은 API 응답을 보고 조정해야 합니다.\n",
        "            row = {\n",
        "                \"year\": item[\"year\"],\n",
        "                \"month\": item[\"month\"],\n",
        "                \"raw\": r\n",
        "            }\n",
        "            # 일반적으로 'raw' 내부의 키들을 풀어 CSV 칼럼으로 만들려면 아래처럼 확장\n",
        "            # for k,v in r.items(): row[k] = v\n",
        "            rows_for_df.append(row)\n",
        "    else:\n",
        "        # parsed_rows가 없으면 raw_json을 기록한 한 줄\n",
        "        rows_for_df.append({\n",
        "            \"year\": item[\"year\"],\n",
        "            \"month\": item[\"month\"],\n",
        "            \"raw\": item[\"raw_json\"]\n",
        "        })\n",
        "\n",
        "df = pd.json_normalize(rows_for_df)\n",
        "csv_path = os.path.join(OUT_DIR, \"energy_summary_2015_2024.csv\")\n",
        "df.to_csv(csv_path, index=False, encoding=\"utf-8-sig\")\n",
        "\n",
        "# 요약 출력(캡처용)\n",
        "print(\"\\n=== 수집 요약 ===\")\n",
        "print(f\"총 월 요청 수: {(END_YEAR-START_YEAR+1)*12}\")\n",
        "print(f\"성공적으로 받은 응답 수: {len(results)}\")\n",
        "print(f\"에러/예외 건수: {len(errors)}\")\n",
        "print(f\"저장된 CSV 파일: {csv_path}\")\n",
        "print(f\"원본 JSON 파일들은 폴더: {OUT_DIR} 에 저장됨\")"
      ],
      "metadata": {
        "id": "zohRepNiDQbY",
        "outputId": "2ecc268e-2c4b-4b03-c750-ec7a6685e4f0",
        "colab": {
          "base_uri": "https://localhost:8080/"
        }
      },
      "execution_count": 20,
      "outputs": [
        {
          "output_type": "stream",
          "name": "stdout",
          "text": [
            "[2025-10-22T08:34:11.162968] 요청: 2015-01  URL: http://openapi.seoul.go.kr:8088/4b666641786373693732524e756442/json/energyUseDataSummaryInfo/1/5/2015/01\n",
            "  상태코드: 200\n",
            "[2025-10-22T08:34:11.813671] 요청: 2015-02  URL: http://openapi.seoul.go.kr:8088/4b666641786373693732524e756442/json/energyUseDataSummaryInfo/1/5/2015/02\n",
            "  상태코드: 200\n",
            "[2025-10-22T08:34:12.482545] 요청: 2015-03  URL: http://openapi.seoul.go.kr:8088/4b666641786373693732524e756442/json/energyUseDataSummaryInfo/1/5/2015/03\n",
            "  상태코드: 200\n",
            "[2025-10-22T08:34:13.124836] 요청: 2015-04  URL: http://openapi.seoul.go.kr:8088/4b666641786373693732524e756442/json/energyUseDataSummaryInfo/1/5/2015/04\n",
            "  상태코드: 200\n",
            "[2025-10-22T08:34:13.762143] 요청: 2015-05  URL: http://openapi.seoul.go.kr:8088/4b666641786373693732524e756442/json/energyUseDataSummaryInfo/1/5/2015/05\n",
            "  상태코드: 200\n",
            "[2025-10-22T08:34:14.417494] 요청: 2015-06  URL: http://openapi.seoul.go.kr:8088/4b666641786373693732524e756442/json/energyUseDataSummaryInfo/1/5/2015/06\n",
            "  상태코드: 200\n",
            "[2025-10-22T08:34:15.073946] 요청: 2015-07  URL: http://openapi.seoul.go.kr:8088/4b666641786373693732524e756442/json/energyUseDataSummaryInfo/1/5/2015/07\n",
            "  상태코드: 200\n",
            "[2025-10-22T08:34:15.718449] 요청: 2015-08  URL: http://openapi.seoul.go.kr:8088/4b666641786373693732524e756442/json/energyUseDataSummaryInfo/1/5/2015/08\n",
            "  상태코드: 200\n",
            "[2025-10-22T08:34:16.363636] 요청: 2015-09  URL: http://openapi.seoul.go.kr:8088/4b666641786373693732524e756442/json/energyUseDataSummaryInfo/1/5/2015/09\n",
            "  상태코드: 200\n",
            "[2025-10-22T08:34:17.249054] 요청: 2015-10  URL: http://openapi.seoul.go.kr:8088/4b666641786373693732524e756442/json/energyUseDataSummaryInfo/1/5/2015/10\n",
            "  상태코드: 200\n",
            "[2025-10-22T08:34:17.886895] 요청: 2015-11  URL: http://openapi.seoul.go.kr:8088/4b666641786373693732524e756442/json/energyUseDataSummaryInfo/1/5/2015/11\n",
            "  상태코드: 200\n",
            "[2025-10-22T08:34:18.545487] 요청: 2015-12  URL: http://openapi.seoul.go.kr:8088/4b666641786373693732524e756442/json/energyUseDataSummaryInfo/1/5/2015/12\n",
            "  상태코드: 200\n",
            "[2025-10-22T08:34:19.191334] 요청: 2016-01  URL: http://openapi.seoul.go.kr:8088/4b666641786373693732524e756442/json/energyUseDataSummaryInfo/1/5/2016/01\n",
            "  상태코드: 200\n",
            "[2025-10-22T08:34:19.842799] 요청: 2016-02  URL: http://openapi.seoul.go.kr:8088/4b666641786373693732524e756442/json/energyUseDataSummaryInfo/1/5/2016/02\n",
            "  상태코드: 200\n",
            "[2025-10-22T08:34:20.483058] 요청: 2016-03  URL: http://openapi.seoul.go.kr:8088/4b666641786373693732524e756442/json/energyUseDataSummaryInfo/1/5/2016/03\n",
            "  상태코드: 200\n",
            "[2025-10-22T08:34:21.134097] 요청: 2016-04  URL: http://openapi.seoul.go.kr:8088/4b666641786373693732524e756442/json/energyUseDataSummaryInfo/1/5/2016/04\n",
            "  상태코드: 200\n",
            "[2025-10-22T08:34:21.771894] 요청: 2016-05  URL: http://openapi.seoul.go.kr:8088/4b666641786373693732524e756442/json/energyUseDataSummaryInfo/1/5/2016/05\n",
            "  상태코드: 200\n",
            "[2025-10-22T08:34:22.430468] 요청: 2016-06  URL: http://openapi.seoul.go.kr:8088/4b666641786373693732524e756442/json/energyUseDataSummaryInfo/1/5/2016/06\n",
            "  상태코드: 200\n",
            "[2025-10-22T08:34:23.081571] 요청: 2016-07  URL: http://openapi.seoul.go.kr:8088/4b666641786373693732524e756442/json/energyUseDataSummaryInfo/1/5/2016/07\n",
            "  상태코드: 200\n",
            "[2025-10-22T08:34:23.724197] 요청: 2016-08  URL: http://openapi.seoul.go.kr:8088/4b666641786373693732524e756442/json/energyUseDataSummaryInfo/1/5/2016/08\n",
            "  상태코드: 200\n",
            "[2025-10-22T08:34:24.382547] 요청: 2016-09  URL: http://openapi.seoul.go.kr:8088/4b666641786373693732524e756442/json/energyUseDataSummaryInfo/1/5/2016/09\n",
            "  상태코드: 200\n",
            "[2025-10-22T08:34:25.018198] 요청: 2016-10  URL: http://openapi.seoul.go.kr:8088/4b666641786373693732524e756442/json/energyUseDataSummaryInfo/1/5/2016/10\n",
            "  상태코드: 200\n",
            "[2025-10-22T08:34:25.658085] 요청: 2016-11  URL: http://openapi.seoul.go.kr:8088/4b666641786373693732524e756442/json/energyUseDataSummaryInfo/1/5/2016/11\n",
            "  상태코드: 200\n",
            "[2025-10-22T08:34:26.289092] 요청: 2016-12  URL: http://openapi.seoul.go.kr:8088/4b666641786373693732524e756442/json/energyUseDataSummaryInfo/1/5/2016/12\n",
            "  상태코드: 200\n",
            "[2025-10-22T08:34:26.929551] 요청: 2017-01  URL: http://openapi.seoul.go.kr:8088/4b666641786373693732524e756442/json/energyUseDataSummaryInfo/1/5/2017/01\n",
            "  상태코드: 200\n",
            "[2025-10-22T08:34:27.581734] 요청: 2017-02  URL: http://openapi.seoul.go.kr:8088/4b666641786373693732524e756442/json/energyUseDataSummaryInfo/1/5/2017/02\n",
            "  상태코드: 200\n",
            "[2025-10-22T08:34:28.221944] 요청: 2017-03  URL: http://openapi.seoul.go.kr:8088/4b666641786373693732524e756442/json/energyUseDataSummaryInfo/1/5/2017/03\n",
            "  상태코드: 200\n",
            "[2025-10-22T08:34:28.877472] 요청: 2017-04  URL: http://openapi.seoul.go.kr:8088/4b666641786373693732524e756442/json/energyUseDataSummaryInfo/1/5/2017/04\n",
            "  상태코드: 200\n",
            "[2025-10-22T08:34:29.542007] 요청: 2017-05  URL: http://openapi.seoul.go.kr:8088/4b666641786373693732524e756442/json/energyUseDataSummaryInfo/1/5/2017/05\n",
            "  상태코드: 200\n",
            "[2025-10-22T08:34:30.198716] 요청: 2017-06  URL: http://openapi.seoul.go.kr:8088/4b666641786373693732524e756442/json/energyUseDataSummaryInfo/1/5/2017/06\n",
            "  상태코드: 200\n",
            "[2025-10-22T08:34:30.855618] 요청: 2017-07  URL: http://openapi.seoul.go.kr:8088/4b666641786373693732524e756442/json/energyUseDataSummaryInfo/1/5/2017/07\n",
            "  상태코드: 200\n",
            "[2025-10-22T08:34:31.500152] 요청: 2017-08  URL: http://openapi.seoul.go.kr:8088/4b666641786373693732524e756442/json/energyUseDataSummaryInfo/1/5/2017/08\n",
            "  상태코드: 200\n",
            "[2025-10-22T08:34:32.149158] 요청: 2017-09  URL: http://openapi.seoul.go.kr:8088/4b666641786373693732524e756442/json/energyUseDataSummaryInfo/1/5/2017/09\n",
            "  상태코드: 200\n",
            "[2025-10-22T08:34:32.786715] 요청: 2017-10  URL: http://openapi.seoul.go.kr:8088/4b666641786373693732524e756442/json/energyUseDataSummaryInfo/1/5/2017/10\n",
            "  상태코드: 200\n",
            "[2025-10-22T08:34:33.432691] 요청: 2017-11  URL: http://openapi.seoul.go.kr:8088/4b666641786373693732524e756442/json/energyUseDataSummaryInfo/1/5/2017/11\n",
            "  상태코드: 200\n",
            "[2025-10-22T08:34:34.068072] 요청: 2017-12  URL: http://openapi.seoul.go.kr:8088/4b666641786373693732524e756442/json/energyUseDataSummaryInfo/1/5/2017/12\n",
            "  상태코드: 200\n",
            "[2025-10-22T08:34:34.717632] 요청: 2018-01  URL: http://openapi.seoul.go.kr:8088/4b666641786373693732524e756442/json/energyUseDataSummaryInfo/1/5/2018/01\n",
            "  상태코드: 200\n",
            "[2025-10-22T08:34:35.367751] 요청: 2018-02  URL: http://openapi.seoul.go.kr:8088/4b666641786373693732524e756442/json/energyUseDataSummaryInfo/1/5/2018/02\n",
            "  상태코드: 200\n",
            "[2025-10-22T08:34:36.018786] 요청: 2018-03  URL: http://openapi.seoul.go.kr:8088/4b666641786373693732524e756442/json/energyUseDataSummaryInfo/1/5/2018/03\n",
            "  상태코드: 200\n",
            "[2025-10-22T08:34:36.677474] 요청: 2018-04  URL: http://openapi.seoul.go.kr:8088/4b666641786373693732524e756442/json/energyUseDataSummaryInfo/1/5/2018/04\n",
            "  상태코드: 200\n",
            "[2025-10-22T08:34:37.347401] 요청: 2018-05  URL: http://openapi.seoul.go.kr:8088/4b666641786373693732524e756442/json/energyUseDataSummaryInfo/1/5/2018/05\n",
            "  상태코드: 200\n",
            "[2025-10-22T08:34:38.001679] 요청: 2018-06  URL: http://openapi.seoul.go.kr:8088/4b666641786373693732524e756442/json/energyUseDataSummaryInfo/1/5/2018/06\n",
            "  상태코드: 200\n",
            "[2025-10-22T08:34:38.645158] 요청: 2018-07  URL: http://openapi.seoul.go.kr:8088/4b666641786373693732524e756442/json/energyUseDataSummaryInfo/1/5/2018/07\n",
            "  상태코드: 200\n",
            "[2025-10-22T08:34:39.282526] 요청: 2018-08  URL: http://openapi.seoul.go.kr:8088/4b666641786373693732524e756442/json/energyUseDataSummaryInfo/1/5/2018/08\n",
            "  상태코드: 200\n",
            "[2025-10-22T08:34:39.925060] 요청: 2018-09  URL: http://openapi.seoul.go.kr:8088/4b666641786373693732524e756442/json/energyUseDataSummaryInfo/1/5/2018/09\n",
            "  상태코드: 200\n",
            "[2025-10-22T08:34:40.750470] 요청: 2018-10  URL: http://openapi.seoul.go.kr:8088/4b666641786373693732524e756442/json/energyUseDataSummaryInfo/1/5/2018/10\n",
            "  상태코드: 200\n",
            "[2025-10-22T08:34:41.393972] 요청: 2018-11  URL: http://openapi.seoul.go.kr:8088/4b666641786373693732524e756442/json/energyUseDataSummaryInfo/1/5/2018/11\n",
            "  상태코드: 200\n",
            "[2025-10-22T08:34:42.032640] 요청: 2018-12  URL: http://openapi.seoul.go.kr:8088/4b666641786373693732524e756442/json/energyUseDataSummaryInfo/1/5/2018/12\n",
            "  상태코드: 200\n",
            "[2025-10-22T08:34:42.693673] 요청: 2019-01  URL: http://openapi.seoul.go.kr:8088/4b666641786373693732524e756442/json/energyUseDataSummaryInfo/1/5/2019/01\n",
            "  상태코드: 200\n",
            "[2025-10-22T08:34:43.320006] 요청: 2019-02  URL: http://openapi.seoul.go.kr:8088/4b666641786373693732524e756442/json/energyUseDataSummaryInfo/1/5/2019/02\n",
            "  상태코드: 200\n",
            "[2025-10-22T08:34:43.958519] 요청: 2019-03  URL: http://openapi.seoul.go.kr:8088/4b666641786373693732524e756442/json/energyUseDataSummaryInfo/1/5/2019/03\n",
            "  상태코드: 200\n",
            "[2025-10-22T08:34:44.602773] 요청: 2019-04  URL: http://openapi.seoul.go.kr:8088/4b666641786373693732524e756442/json/energyUseDataSummaryInfo/1/5/2019/04\n",
            "  상태코드: 200\n",
            "[2025-10-22T08:34:45.250203] 요청: 2019-05  URL: http://openapi.seoul.go.kr:8088/4b666641786373693732524e756442/json/energyUseDataSummaryInfo/1/5/2019/05\n",
            "  상태코드: 200\n",
            "[2025-10-22T08:34:45.886306] 요청: 2019-06  URL: http://openapi.seoul.go.kr:8088/4b666641786373693732524e756442/json/energyUseDataSummaryInfo/1/5/2019/06\n",
            "  상태코드: 200\n",
            "[2025-10-22T08:34:46.754656] 요청: 2019-07  URL: http://openapi.seoul.go.kr:8088/4b666641786373693732524e756442/json/energyUseDataSummaryInfo/1/5/2019/07\n",
            "  상태코드: 200\n",
            "[2025-10-22T08:34:47.400318] 요청: 2019-08  URL: http://openapi.seoul.go.kr:8088/4b666641786373693732524e756442/json/energyUseDataSummaryInfo/1/5/2019/08\n",
            "  상태코드: 200\n",
            "[2025-10-22T08:34:48.054783] 요청: 2019-09  URL: http://openapi.seoul.go.kr:8088/4b666641786373693732524e756442/json/energyUseDataSummaryInfo/1/5/2019/09\n",
            "  상태코드: 200\n",
            "[2025-10-22T08:34:48.702125] 요청: 2019-10  URL: http://openapi.seoul.go.kr:8088/4b666641786373693732524e756442/json/energyUseDataSummaryInfo/1/5/2019/10\n",
            "  상태코드: 200\n",
            "[2025-10-22T08:34:49.346679] 요청: 2019-11  URL: http://openapi.seoul.go.kr:8088/4b666641786373693732524e756442/json/energyUseDataSummaryInfo/1/5/2019/11\n",
            "  상태코드: 200\n",
            "[2025-10-22T08:34:49.986335] 요청: 2019-12  URL: http://openapi.seoul.go.kr:8088/4b666641786373693732524e756442/json/energyUseDataSummaryInfo/1/5/2019/12\n",
            "  상태코드: 200\n",
            "[2025-10-22T08:34:50.628043] 요청: 2020-01  URL: http://openapi.seoul.go.kr:8088/4b666641786373693732524e756442/json/energyUseDataSummaryInfo/1/5/2020/01\n",
            "  상태코드: 200\n",
            "[2025-10-22T08:34:51.260609] 요청: 2020-02  URL: http://openapi.seoul.go.kr:8088/4b666641786373693732524e756442/json/energyUseDataSummaryInfo/1/5/2020/02\n",
            "  상태코드: 200\n",
            "[2025-10-22T08:34:51.886461] 요청: 2020-03  URL: http://openapi.seoul.go.kr:8088/4b666641786373693732524e756442/json/energyUseDataSummaryInfo/1/5/2020/03\n",
            "  상태코드: 200\n",
            "[2025-10-22T08:34:52.526854] 요청: 2020-04  URL: http://openapi.seoul.go.kr:8088/4b666641786373693732524e756442/json/energyUseDataSummaryInfo/1/5/2020/04\n",
            "  상태코드: 200\n",
            "[2025-10-22T08:34:53.178508] 요청: 2020-05  URL: http://openapi.seoul.go.kr:8088/4b666641786373693732524e756442/json/energyUseDataSummaryInfo/1/5/2020/05\n",
            "  상태코드: 200\n",
            "[2025-10-22T08:34:53.920186] 요청: 2020-06  URL: http://openapi.seoul.go.kr:8088/4b666641786373693732524e756442/json/energyUseDataSummaryInfo/1/5/2020/06\n",
            "  상태코드: 200\n",
            "[2025-10-22T08:34:54.703548] 요청: 2020-07  URL: http://openapi.seoul.go.kr:8088/4b666641786373693732524e756442/json/energyUseDataSummaryInfo/1/5/2020/07\n",
            "  상태코드: 200\n",
            "[2025-10-22T08:34:55.369532] 요청: 2020-08  URL: http://openapi.seoul.go.kr:8088/4b666641786373693732524e756442/json/energyUseDataSummaryInfo/1/5/2020/08\n",
            "  상태코드: 200\n",
            "[2025-10-22T08:34:56.006765] 요청: 2020-09  URL: http://openapi.seoul.go.kr:8088/4b666641786373693732524e756442/json/energyUseDataSummaryInfo/1/5/2020/09\n",
            "  상태코드: 200\n",
            "[2025-10-22T08:34:56.647695] 요청: 2020-10  URL: http://openapi.seoul.go.kr:8088/4b666641786373693732524e756442/json/energyUseDataSummaryInfo/1/5/2020/10\n",
            "  상태코드: 200\n",
            "[2025-10-22T08:34:57.286613] 요청: 2020-11  URL: http://openapi.seoul.go.kr:8088/4b666641786373693732524e756442/json/energyUseDataSummaryInfo/1/5/2020/11\n",
            "  상태코드: 200\n",
            "[2025-10-22T08:34:57.928651] 요청: 2020-12  URL: http://openapi.seoul.go.kr:8088/4b666641786373693732524e756442/json/energyUseDataSummaryInfo/1/5/2020/12\n",
            "  상태코드: 200\n",
            "[2025-10-22T08:34:58.576980] 요청: 2021-01  URL: http://openapi.seoul.go.kr:8088/4b666641786373693732524e756442/json/energyUseDataSummaryInfo/1/5/2021/01\n",
            "  상태코드: 200\n",
            "[2025-10-22T08:34:59.219309] 요청: 2021-02  URL: http://openapi.seoul.go.kr:8088/4b666641786373693732524e756442/json/energyUseDataSummaryInfo/1/5/2021/02\n",
            "  상태코드: 200\n",
            "[2025-10-22T08:34:59.852085] 요청: 2021-03  URL: http://openapi.seoul.go.kr:8088/4b666641786373693732524e756442/json/energyUseDataSummaryInfo/1/5/2021/03\n",
            "  상태코드: 200\n",
            "[2025-10-22T08:35:00.496643] 요청: 2021-04  URL: http://openapi.seoul.go.kr:8088/4b666641786373693732524e756442/json/energyUseDataSummaryInfo/1/5/2021/04\n",
            "  상태코드: 200\n",
            "[2025-10-22T08:35:01.131844] 요청: 2021-05  URL: http://openapi.seoul.go.kr:8088/4b666641786373693732524e756442/json/energyUseDataSummaryInfo/1/5/2021/05\n",
            "  상태코드: 200\n",
            "[2025-10-22T08:35:01.772996] 요청: 2021-06  URL: http://openapi.seoul.go.kr:8088/4b666641786373693732524e756442/json/energyUseDataSummaryInfo/1/5/2021/06\n",
            "  상태코드: 200\n",
            "[2025-10-22T08:35:02.415294] 요청: 2021-07  URL: http://openapi.seoul.go.kr:8088/4b666641786373693732524e756442/json/energyUseDataSummaryInfo/1/5/2021/07\n",
            "  상태코드: 200\n",
            "[2025-10-22T08:35:03.054873] 요청: 2021-08  URL: http://openapi.seoul.go.kr:8088/4b666641786373693732524e756442/json/energyUseDataSummaryInfo/1/5/2021/08\n",
            "  상태코드: 200\n",
            "[2025-10-22T08:35:03.686997] 요청: 2021-09  URL: http://openapi.seoul.go.kr:8088/4b666641786373693732524e756442/json/energyUseDataSummaryInfo/1/5/2021/09\n",
            "  상태코드: 200\n",
            "[2025-10-22T08:35:04.331109] 요청: 2021-10  URL: http://openapi.seoul.go.kr:8088/4b666641786373693732524e756442/json/energyUseDataSummaryInfo/1/5/2021/10\n",
            "  상태코드: 200\n",
            "[2025-10-22T08:35:05.022315] 요청: 2021-11  URL: http://openapi.seoul.go.kr:8088/4b666641786373693732524e756442/json/energyUseDataSummaryInfo/1/5/2021/11\n",
            "  상태코드: 200\n",
            "[2025-10-22T08:35:05.694067] 요청: 2021-12  URL: http://openapi.seoul.go.kr:8088/4b666641786373693732524e756442/json/energyUseDataSummaryInfo/1/5/2021/12\n",
            "  상태코드: 200\n",
            "[2025-10-22T08:35:06.331565] 요청: 2022-01  URL: http://openapi.seoul.go.kr:8088/4b666641786373693732524e756442/json/energyUseDataSummaryInfo/1/5/2022/01\n",
            "  상태코드: 200\n",
            "[2025-10-22T08:35:06.968678] 요청: 2022-02  URL: http://openapi.seoul.go.kr:8088/4b666641786373693732524e756442/json/energyUseDataSummaryInfo/1/5/2022/02\n",
            "  상태코드: 200\n",
            "[2025-10-22T08:35:07.606895] 요청: 2022-03  URL: http://openapi.seoul.go.kr:8088/4b666641786373693732524e756442/json/energyUseDataSummaryInfo/1/5/2022/03\n",
            "  상태코드: 200\n",
            "[2025-10-22T08:35:08.243776] 요청: 2022-04  URL: http://openapi.seoul.go.kr:8088/4b666641786373693732524e756442/json/energyUseDataSummaryInfo/1/5/2022/04\n",
            "  상태코드: 200\n",
            "[2025-10-22T08:35:08.882951] 요청: 2022-05  URL: http://openapi.seoul.go.kr:8088/4b666641786373693732524e756442/json/energyUseDataSummaryInfo/1/5/2022/05\n",
            "  상태코드: 200\n",
            "[2025-10-22T08:35:09.530578] 요청: 2022-06  URL: http://openapi.seoul.go.kr:8088/4b666641786373693732524e756442/json/energyUseDataSummaryInfo/1/5/2022/06\n",
            "  상태코드: 200\n",
            "[2025-10-22T08:35:10.156727] 요청: 2022-07  URL: http://openapi.seoul.go.kr:8088/4b666641786373693732524e756442/json/energyUseDataSummaryInfo/1/5/2022/07\n",
            "  상태코드: 200\n",
            "[2025-10-22T08:35:10.797507] 요청: 2022-08  URL: http://openapi.seoul.go.kr:8088/4b666641786373693732524e756442/json/energyUseDataSummaryInfo/1/5/2022/08\n",
            "  상태코드: 200\n",
            "[2025-10-22T08:35:11.620615] 요청: 2022-09  URL: http://openapi.seoul.go.kr:8088/4b666641786373693732524e756442/json/energyUseDataSummaryInfo/1/5/2022/09\n",
            "  상태코드: 200\n",
            "[2025-10-22T08:35:12.256280] 요청: 2022-10  URL: http://openapi.seoul.go.kr:8088/4b666641786373693732524e756442/json/energyUseDataSummaryInfo/1/5/2022/10\n",
            "  상태코드: 200\n",
            "[2025-10-22T08:35:12.902680] 요청: 2022-11  URL: http://openapi.seoul.go.kr:8088/4b666641786373693732524e756442/json/energyUseDataSummaryInfo/1/5/2022/11\n",
            "  상태코드: 200\n",
            "[2025-10-22T08:35:13.528618] 요청: 2022-12  URL: http://openapi.seoul.go.kr:8088/4b666641786373693732524e756442/json/energyUseDataSummaryInfo/1/5/2022/12\n",
            "  상태코드: 200\n",
            "[2025-10-22T08:35:14.170131] 요청: 2023-01  URL: http://openapi.seoul.go.kr:8088/4b666641786373693732524e756442/json/energyUseDataSummaryInfo/1/5/2023/01\n",
            "  상태코드: 200\n",
            "[2025-10-22T08:35:14.796345] 요청: 2023-02  URL: http://openapi.seoul.go.kr:8088/4b666641786373693732524e756442/json/energyUseDataSummaryInfo/1/5/2023/02\n",
            "  상태코드: 200\n",
            "[2025-10-22T08:35:15.429623] 요청: 2023-03  URL: http://openapi.seoul.go.kr:8088/4b666641786373693732524e756442/json/energyUseDataSummaryInfo/1/5/2023/03\n",
            "  상태코드: 200\n",
            "[2025-10-22T08:35:16.119329] 요청: 2023-04  URL: http://openapi.seoul.go.kr:8088/4b666641786373693732524e756442/json/energyUseDataSummaryInfo/1/5/2023/04\n",
            "  상태코드: 200\n",
            "[2025-10-22T08:35:16.758114] 요청: 2023-05  URL: http://openapi.seoul.go.kr:8088/4b666641786373693732524e756442/json/energyUseDataSummaryInfo/1/5/2023/05\n",
            "  상태코드: 200\n",
            "[2025-10-22T08:35:17.614505] 요청: 2023-06  URL: http://openapi.seoul.go.kr:8088/4b666641786373693732524e756442/json/energyUseDataSummaryInfo/1/5/2023/06\n",
            "  상태코드: 200\n",
            "[2025-10-22T08:35:18.271027] 요청: 2023-07  URL: http://openapi.seoul.go.kr:8088/4b666641786373693732524e756442/json/energyUseDataSummaryInfo/1/5/2023/07\n",
            "  상태코드: 200\n",
            "[2025-10-22T08:35:18.914722] 요청: 2023-08  URL: http://openapi.seoul.go.kr:8088/4b666641786373693732524e756442/json/energyUseDataSummaryInfo/1/5/2023/08\n",
            "  상태코드: 200\n",
            "[2025-10-22T08:35:19.550647] 요청: 2023-09  URL: http://openapi.seoul.go.kr:8088/4b666641786373693732524e756442/json/energyUseDataSummaryInfo/1/5/2023/09\n",
            "  상태코드: 200\n",
            "[2025-10-22T08:35:20.185798] 요청: 2023-10  URL: http://openapi.seoul.go.kr:8088/4b666641786373693732524e756442/json/energyUseDataSummaryInfo/1/5/2023/10\n",
            "  상태코드: 200\n",
            "[2025-10-22T08:35:20.815324] 요청: 2023-11  URL: http://openapi.seoul.go.kr:8088/4b666641786373693732524e756442/json/energyUseDataSummaryInfo/1/5/2023/11\n",
            "  상태코드: 200\n",
            "[2025-10-22T08:35:21.460377] 요청: 2023-12  URL: http://openapi.seoul.go.kr:8088/4b666641786373693732524e756442/json/energyUseDataSummaryInfo/1/5/2023/12\n",
            "  상태코드: 200\n",
            "[2025-10-22T08:35:22.086326] 요청: 2024-01  URL: http://openapi.seoul.go.kr:8088/4b666641786373693732524e756442/json/energyUseDataSummaryInfo/1/5/2024/01\n",
            "  상태코드: 200\n",
            "[2025-10-22T08:35:22.726572] 요청: 2024-02  URL: http://openapi.seoul.go.kr:8088/4b666641786373693732524e756442/json/energyUseDataSummaryInfo/1/5/2024/02\n",
            "  상태코드: 200\n",
            "[2025-10-22T08:35:23.364728] 요청: 2024-03  URL: http://openapi.seoul.go.kr:8088/4b666641786373693732524e756442/json/energyUseDataSummaryInfo/1/5/2024/03\n",
            "  상태코드: 200\n",
            "[2025-10-22T08:35:24.102746] 요청: 2024-04  URL: http://openapi.seoul.go.kr:8088/4b666641786373693732524e756442/json/energyUseDataSummaryInfo/1/5/2024/04\n",
            "  상태코드: 200\n",
            "[2025-10-22T08:35:24.753613] 요청: 2024-05  URL: http://openapi.seoul.go.kr:8088/4b666641786373693732524e756442/json/energyUseDataSummaryInfo/1/5/2024/05\n",
            "  상태코드: 200\n",
            "[2025-10-22T08:35:25.402588] 요청: 2024-06  URL: http://openapi.seoul.go.kr:8088/4b666641786373693732524e756442/json/energyUseDataSummaryInfo/1/5/2024/06\n",
            "  상태코드: 200\n",
            "[2025-10-22T08:35:26.059542] 요청: 2024-07  URL: http://openapi.seoul.go.kr:8088/4b666641786373693732524e756442/json/energyUseDataSummaryInfo/1/5/2024/07\n",
            "  상태코드: 200\n",
            "[2025-10-22T08:35:26.695920] 요청: 2024-08  URL: http://openapi.seoul.go.kr:8088/4b666641786373693732524e756442/json/energyUseDataSummaryInfo/1/5/2024/08\n",
            "  상태코드: 200\n",
            "[2025-10-22T08:35:27.335222] 요청: 2024-09  URL: http://openapi.seoul.go.kr:8088/4b666641786373693732524e756442/json/energyUseDataSummaryInfo/1/5/2024/09\n",
            "  상태코드: 200\n",
            "[2025-10-22T08:35:27.977178] 요청: 2024-10  URL: http://openapi.seoul.go.kr:8088/4b666641786373693732524e756442/json/energyUseDataSummaryInfo/1/5/2024/10\n",
            "  상태코드: 200\n",
            "[2025-10-22T08:35:28.611479] 요청: 2024-11  URL: http://openapi.seoul.go.kr:8088/4b666641786373693732524e756442/json/energyUseDataSummaryInfo/1/5/2024/11\n",
            "  상태코드: 200\n",
            "[2025-10-22T08:35:29.260297] 요청: 2024-12  URL: http://openapi.seoul.go.kr:8088/4b666641786373693732524e756442/json/energyUseDataSummaryInfo/1/5/2024/12\n",
            "  상태코드: 200\n",
            "\n",
            "=== 수집 요약 ===\n",
            "총 월 요청 수: 120\n",
            "성공적으로 받은 응답 수: 120\n",
            "에러/예외 건수: 0\n",
            "저장된 CSV 파일: energy_data/energy_summary_2015_2024.csv\n",
            "원본 JSON 파일들은 폴더: energy_data 에 저장됨\n"
          ]
        }
      ]
    }
  ]
}